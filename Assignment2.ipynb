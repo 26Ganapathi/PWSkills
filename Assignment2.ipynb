{
 "cells": [
  {
   "cell_type": "markdown",
   "id": "23f862e3-4489-4a73-8624-402ce3e189d1",
   "metadata": {},
   "source": [
    "1.We can comment code in python using single line comments and multiline comments"
   ]
  },
  {
   "cell_type": "code",
   "execution_count": null,
   "id": "d5a503e9-7c91-4d2f-9d34-ed09ba29c977",
   "metadata": {},
   "outputs": [],
   "source": [
    "#example for single line comments\n",
    "\"\"\" example for \n",
    "multi\n",
    "line\n",
    "comments \"\"\""
   ]
  },
  {
   "cell_type": "markdown",
   "id": "03f10961-e917-4a9f-b2b4-3dcbc194361d",
   "metadata": {},
   "source": [
    "2.Variables are used to store data."
   ]
  },
  {
   "cell_type": "code",
   "execution_count": 2,
   "id": "227d1b48-7008-4bfc-a7b2-7ad0e381f1ec",
   "metadata": {},
   "outputs": [],
   "source": [
    "##if i want to store the value 10 in variable a it is done by\n",
    "a=10\n",
    "## vriable_name=value"
   ]
  },
  {
   "cell_type": "markdown",
   "id": "8d9f7bdc-b782-419a-8d34-e65e8f7ea151",
   "metadata": {},
   "source": [
    "3.By Typecasting"
   ]
  },
  {
   "cell_type": "markdown",
   "id": "89e5e803-1d8d-49b9-8c8b-34f2f7f926e1",
   "metadata": {},
   "source": [
    "4.Not Explained"
   ]
  },
  {
   "cell_type": "code",
   "execution_count": 4,
   "id": "b858d6d8-7c0d-4a10-8559-2b070b3ec5b6",
   "metadata": {},
   "outputs": [],
   "source": [
    "#5.#\n",
    "my_list=[1,2,3,4,5]\n"
   ]
  },
  {
   "cell_type": "code",
   "execution_count": 5,
   "id": "50530a48-7c50-46b2-a399-e2c9011a9de5",
   "metadata": {},
   "outputs": [
    {
     "data": {
      "text/plain": [
       "[2, 3]"
      ]
     },
     "execution_count": 5,
     "metadata": {},
     "output_type": "execute_result"
    }
   ],
   "source": [
    "my_list[1:3]"
   ]
  },
  {
   "cell_type": "markdown",
   "id": "d8af7da5-eaac-4e25-bb2f-8d302acdd852",
   "metadata": {},
   "source": [
    "6.Complex numbers contain both real and imagniary part. In python it is represented by a+bj,where a is real part and bj is imaginary part."
   ]
  },
  {
   "cell_type": "code",
   "execution_count": 6,
   "id": "887632c9-3809-4baf-acbe-b24c989f3bbf",
   "metadata": {},
   "outputs": [],
   "source": [
    "#7.#\n",
    "age=25"
   ]
  },
  {
   "cell_type": "code",
   "execution_count": 7,
   "id": "641eb124-4270-4ea0-bf0c-a69ead0128aa",
   "metadata": {},
   "outputs": [
    {
     "data": {
      "text/plain": [
       "float"
      ]
     },
     "execution_count": 7,
     "metadata": {},
     "output_type": "execute_result"
    }
   ],
   "source": [
    "#8.#\n",
    "price=9.99\n",
    "type(price)\n",
    "# data type is float "
   ]
  },
  {
   "cell_type": "code",
   "execution_count": 8,
   "id": "9e6684a5-20c1-4ab4-ba92-e17276838a3f",
   "metadata": {},
   "outputs": [
    {
     "name": "stdout",
     "output_type": "stream",
     "text": [
      "Amogh Kamath\n"
     ]
    }
   ],
   "source": [
    "#9.#\n",
    "name=\"Amogh Kamath\"\n",
    "print(name)"
   ]
  },
  {
   "cell_type": "code",
   "execution_count": 10,
   "id": "bf8892b9-719e-45f7-a823-e6c005026a97",
   "metadata": {},
   "outputs": [],
   "source": [
    "#10.#\n",
    "x=\"Hello,World!\"\n"
   ]
  },
  {
   "cell_type": "code",
   "execution_count": 11,
   "id": "75dea8e2-978e-4265-8399-765586f096db",
   "metadata": {},
   "outputs": [
    {
     "data": {
      "text/plain": [
       "'World'"
      ]
     },
     "execution_count": 11,
     "metadata": {},
     "output_type": "execute_result"
    }
   ],
   "source": [
    "x[6:11]"
   ]
  },
  {
   "cell_type": "code",
   "execution_count": null,
   "id": "1469cdb6-938b-41dc-abb5-5518e08d3623",
   "metadata": {},
   "outputs": [],
   "source": [
    "#11.#\n",
    "is_student=True"
   ]
  }
 ],
 "metadata": {
  "kernelspec": {
   "display_name": "Python 3 (ipykernel)",
   "language": "python",
   "name": "python3"
  },
  "language_info": {
   "codemirror_mode": {
    "name": "ipython",
    "version": 3
   },
   "file_extension": ".py",
   "mimetype": "text/x-python",
   "name": "python",
   "nbconvert_exporter": "python",
   "pygments_lexer": "ipython3",
   "version": "3.10.8"
  }
 },
 "nbformat": 4,
 "nbformat_minor": 5
}
