{
 "cells": [
  {
   "cell_type": "markdown",
   "id": "130c96e4-0a4f-4177-8144-06bf9ec798a0",
   "metadata": {},
   "source": [
    "# 1"
   ]
  },
  {
   "cell_type": "markdown",
   "id": "2497a667-babe-4869-95c9-3b190655a7d8",
   "metadata": {
    "tags": []
   },
   "source": [
    "## \n",
    "1.string1=\"sudhanshu\"\n",
    "\n",
    "2.list1=[1,2,3,4,5]\n",
    "\n",
    "3.float1=99.99\n",
    "\n",
    "4.tuple1=(1,2,3,4,5)\n"
   ]
  },
  {
   "cell_type": "markdown",
   "id": "e44f98e4-9976-4887-b741-7729563065f3",
   "metadata": {},
   "source": [
    "# 2"
   ]
  },
  {
   "cell_type": "markdown",
   "id": "b485bdf3-504e-45b0-9e79-cc2a24ac7054",
   "metadata": {},
   "source": [
    "###\n",
    "1.str\n",
    "\n",
    "2.str\n",
    "\n",
    "3.list\n",
    "\n",
    "4.int\n"
   ]
  },
  {
   "cell_type": "markdown",
   "id": "c17323fd-106c-4abd-8d30-e2960dc1ae83",
   "metadata": {},
   "source": [
    "# 3"
   ]
  },
  {
   "cell_type": "markdown",
   "id": "c6b4eb02-78ba-486b-87dc-343c974eda61",
   "metadata": {},
   "source": [
    "###\n",
    "1.quotient\n",
    "\n",
    "2.remainder\n",
    "\n",
    "3.Floor of the quotient\n",
    "\n",
    "4.exponent\n",
    "\n"
   ]
  },
  {
   "cell_type": "markdown",
   "id": "0bba418a-d262-4ea2-b7bb-44b2c5c64795",
   "metadata": {},
   "source": [
    "# 4"
   ]
  },
  {
   "cell_type": "code",
   "execution_count": 32,
   "id": "716e590e-13de-4ee5-b2ad-69a9587974de",
   "metadata": {},
   "outputs": [],
   "source": [
    "l1=[1,2,True,False,3+4j,6-7j,9.9,\"sudh\",\"krish\",\"pwskills\"]"
   ]
  },
  {
   "cell_type": "code",
   "execution_count": 33,
   "id": "7fe1bf3f-0b69-4b0c-8422-4ed068bc0c52",
   "metadata": {},
   "outputs": [
    {
     "data": {
      "text/plain": [
       "10"
      ]
     },
     "execution_count": 33,
     "metadata": {},
     "output_type": "execute_result"
    }
   ],
   "source": [
    "len(l1)"
   ]
  },
  {
   "cell_type": "code",
   "execution_count": 35,
   "id": "220f40c3-9d6e-454b-8b30-692a70721359",
   "metadata": {},
   "outputs": [
    {
     "name": "stdout",
     "output_type": "stream",
     "text": [
      "1 <class 'int'>\n",
      "2 <class 'int'>\n",
      "True <class 'bool'>\n",
      "False <class 'bool'>\n",
      "(3+4j) <class 'complex'>\n",
      "(6-7j) <class 'complex'>\n",
      "9.9 <class 'float'>\n",
      "sudh <class 'str'>\n",
      "krish <class 'str'>\n",
      "pwskills <class 'str'>\n"
     ]
    }
   ],
   "source": [
    "for i in l1:\n",
    "    print(i,type(i))"
   ]
  },
  {
   "cell_type": "markdown",
   "id": "177f402b-c222-44d6-8e52-ff31e1ccec6d",
   "metadata": {},
   "source": [
    "# 5"
   ]
  },
  {
   "cell_type": "code",
   "execution_count": 6,
   "id": "fce804c4-6a9c-4cd5-859b-a8f0d68b4da2",
   "metadata": {},
   "outputs": [
    {
     "name": "stdin",
     "output_type": "stream",
     "text": [
      "Enter the values of A 9\n",
      "Enter the values of B 3\n"
     ]
    },
    {
     "name": "stdout",
     "output_type": "stream",
     "text": [
      "A is purely divisible by B and it is divisible 3.0 times\n"
     ]
    }
   ],
   "source": [
    "A=int(input(\"Enter the values of A\"))\n",
    "B=int(input(\"Enter the values of B\"))\n",
    "while A%B==0:\n",
    "    print(f\"A is purely divisible by B and it is divisible {A/B} times\")\n",
    "    break\n",
    "else:\n",
    "    print(f\"A is not  purely divisible by B\")"
   ]
  },
  {
   "cell_type": "code",
   "execution_count": 5,
   "id": "7ad7d95d-171e-4ce9-81c1-e1257d2f2c79",
   "metadata": {},
   "outputs": [
    {
     "name": "stdin",
     "output_type": "stream",
     "text": [
      "Enter the values of A 9\n",
      "Enter the values of B 8\n"
     ]
    },
    {
     "name": "stdout",
     "output_type": "stream",
     "text": [
      "A is not  purely divisible by B\n"
     ]
    }
   ],
   "source": [
    "A=int(input(\"Enter the values of A\"))\n",
    "B=int(input(\"Enter the values of B\"))\n",
    "while A%B==0:\n",
    "    print(f\"A is purely divisible by B and it is divisible {A/B} times\")\n",
    "    break\n",
    "else:\n",
    "    print(f\"A is not  purely divisible by B\")"
   ]
  },
  {
   "cell_type": "markdown",
   "id": "4b933d27-2831-4db5-a150-d37f15fa034c",
   "metadata": {},
   "source": [
    "# 6"
   ]
  },
  {
   "cell_type": "code",
   "execution_count": 4,
   "id": "0a06c3d5-bc5b-4813-95e3-9563dd88ff98",
   "metadata": {},
   "outputs": [],
   "source": [
    "lst1=list(range(25))"
   ]
  },
  {
   "cell_type": "code",
   "execution_count": 9,
   "id": "076b55ff-ac2e-4302-8949-ad0631449eef",
   "metadata": {},
   "outputs": [
    {
     "name": "stdout",
     "output_type": "stream",
     "text": [
      "0 is divisible by 3\n",
      "1 is not divisible by 3\n",
      "2 is not divisible by 3\n",
      "3 is divisible by 3\n",
      "4 is not divisible by 3\n",
      "5 is not divisible by 3\n",
      "6 is divisible by 3\n",
      "7 is not divisible by 3\n",
      "8 is not divisible by 3\n",
      "9 is divisible by 3\n",
      "10 is not divisible by 3\n",
      "11 is not divisible by 3\n",
      "12 is divisible by 3\n",
      "13 is not divisible by 3\n",
      "14 is not divisible by 3\n",
      "15 is divisible by 3\n",
      "16 is not divisible by 3\n",
      "17 is not divisible by 3\n",
      "18 is divisible by 3\n",
      "19 is not divisible by 3\n",
      "20 is not divisible by 3\n",
      "21 is divisible by 3\n",
      "22 is not divisible by 3\n",
      "23 is not divisible by 3\n",
      "24 is divisible by 3\n"
     ]
    }
   ],
   "source": [
    "for i in lst1:\n",
    "    if i%3==0:\n",
    "        print(i,\"is divisible by 3\")\n",
    "    else:\n",
    "        print(i,\"is not divisible by 3\")\n",
    "        \n",
    "    "
   ]
  },
  {
   "cell_type": "markdown",
   "id": "72a1b62e-892c-4150-9f0d-2ccf9ea25666",
   "metadata": {},
   "source": [
    "# 7"
   ]
  },
  {
   "cell_type": "markdown",
   "id": "c7d689da-a49e-4f61-b77d-ecb970cc373b",
   "metadata": {},
   "source": [
    "## In Mutable objects elements at a particular index can be modified \n",
    "## In Immutable objects elements at a particular index cannot be modified \n"
   ]
  },
  {
   "cell_type": "code",
   "execution_count": 10,
   "id": "15fba61f-dbcb-431f-a23c-2176a602cd9c",
   "metadata": {},
   "outputs": [],
   "source": [
    "## Mutable\n",
    "l=[1,2,3,4,5]\n",
    "l[2]=6"
   ]
  },
  {
   "cell_type": "code",
   "execution_count": 11,
   "id": "f59db534-74dd-4d23-876e-88576c25a86f",
   "metadata": {},
   "outputs": [
    {
     "data": {
      "text/plain": [
       "[1, 2, 6, 4, 5]"
      ]
     },
     "execution_count": 11,
     "metadata": {},
     "output_type": "execute_result"
    }
   ],
   "source": [
    "l"
   ]
  },
  {
   "cell_type": "code",
   "execution_count": 13,
   "id": "6e5fbe95-275f-4ecd-8b82-954322d398bf",
   "metadata": {},
   "outputs": [
    {
     "ename": "TypeError",
     "evalue": "'str' object does not support item assignment",
     "output_type": "error",
     "traceback": [
      "\u001b[0;31m---------------------------------------------------------------------------\u001b[0m",
      "\u001b[0;31mTypeError\u001b[0m                                 Traceback (most recent call last)",
      "Cell \u001b[0;32mIn[13], line 3\u001b[0m\n\u001b[1;32m      1\u001b[0m \u001b[38;5;66;03m## Immutable\u001b[39;00m\n\u001b[1;32m      2\u001b[0m s\u001b[38;5;241m=\u001b[39m\u001b[38;5;124m\"\u001b[39m\u001b[38;5;124mkrish\u001b[39m\u001b[38;5;124m\"\u001b[39m\n\u001b[0;32m----> 3\u001b[0m \u001b[43ms\u001b[49m\u001b[43m[\u001b[49m\u001b[38;5;241;43m-\u001b[39;49m\u001b[38;5;241;43m1\u001b[39;49m\u001b[43m]\u001b[49m\u001b[38;5;241m=\u001b[39ms\n",
      "\u001b[0;31mTypeError\u001b[0m: 'str' object does not support item assignment"
     ]
    }
   ],
   "source": [
    "## Immutable\n",
    "s=\"krish\"\n",
    "s[-1]=s"
   ]
  }
 ],
 "metadata": {
  "kernelspec": {
   "display_name": "Python 3 (ipykernel)",
   "language": "python",
   "name": "python3"
  },
  "language_info": {
   "codemirror_mode": {
    "name": "ipython",
    "version": 3
   },
   "file_extension": ".py",
   "mimetype": "text/x-python",
   "name": "python",
   "nbconvert_exporter": "python",
   "pygments_lexer": "ipython3",
   "version": "3.10.8"
  }
 },
 "nbformat": 4,
 "nbformat_minor": 5
}
